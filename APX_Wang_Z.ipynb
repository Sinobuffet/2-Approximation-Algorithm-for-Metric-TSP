{
 "cells": [
  {
   "cell_type": "code",
   "execution_count": 32,
   "id": "f4371da2",
   "metadata": {
    "scrolled": false
   },
   "outputs": [],
   "source": [
    "import numpy as np\n",
    "\n",
    "adj = np.loadtxt(\"metricmat.txt\",delimiter=',')\n",
    "np.place(adj,adj == 0,float('inf'))\n",
    "size = len(adj)\n",
    "\n",
    "dists = []\n",
    "for i in range(size-1):\n",
    "    for j in range(i+1,size):\n",
    "        if adj[i][j] > 0:\n",
    "            dists.append((adj[i][j], (i,j)))\n",
    "\n",
    "dists.sort(key=lambda var: var[0])\n",
    "\n",
    "inc = [i for i in range(size)]\n",
    "Tree = []\n",
    "cost = 0\n",
    "for arc in dists:\n",
    "    if inc[arc[1][0]] != inc[arc[1][1]]:\n",
    "        Tree.append(arc[1])\n",
    "        cost = cost+arc[0] \n",
    "        old = inc[arc[1][1]]\n",
    "        new = inc[arc[1][0]]\n",
    "        for i in range(size):\n",
    "            if inc[i] == old:\n",
    "                inc[i] = new\n"
   ]
  },
  {
   "cell_type": "code",
   "execution_count": 33,
   "id": "5fa885c9",
   "metadata": {},
   "outputs": [
    {
     "name": "stdout",
     "output_type": "stream",
     "text": [
      "Minimum Spanning Tree [(0, 9), (4, 7), (7, 9), (1, 2), (3, 8), (4, 8), (5, 6), (1, 6), (2, 9)]\n",
      "Vertices list： [0, 9, 2, 1, 6, 5, 7, 4, 8, 3]\n",
      "Hamiltonian cycle： [(0, 9), (9, 2), (2, 1), (1, 6), (6, 5), (5, 7), (7, 4), (4, 8), (8, 3), (3, 0)]\n"
     ]
    }
   ],
   "source": [
    "def Depth_first(Tree, adj, start_vertice):\n",
    "    Tree = np.array(Tree)\n",
    "    path = np.full((len(adj),len(adj)),np.inf)\n",
    "    for l in range(len(Tree)):\n",
    "        path.itemset((*Tree[l]), adj[Tree[l,0],Tree[l,1]])\n",
    "    Tree[:,[0,1]] = Tree[:,[1,0]]\n",
    "    for l in range(len(Tree)):\n",
    "        path.itemset((*Tree[l]), adj[Tree[l,0],Tree[l,1]])\n",
    "    \n",
    "    Bool = [0 for i in range(len(adj))]\n",
    "    start_vertice = [start_vertice]\n",
    "    D = []\n",
    "    for i in range(len(adj)):\n",
    "        if len(start_vertice) != 0:\n",
    "            node = start_vertice.pop(-1)\n",
    "            D.append(node)\n",
    "            Bool[node] = 1\n",
    "            if len(np.where(path[node] != np.inf)[0]) > 0:\n",
    "                for node in  np.where(path[node] != np.inf)[0][::-1]:\n",
    "                     if Bool[node] == 0:\n",
    "                        start_vertice.append(node)\n",
    "    return D\n",
    "\n",
    "def Hamilton(D):\n",
    "    cycle = []\n",
    "    for i in range(len(D)-1):\n",
    "         cycle.append((D[i],D[i+1]))\n",
    "    return cycle\n",
    "\n",
    "\n",
    "# 1 find a MST of G\n",
    "print('Minimum Spanning Tree',Tree)\n",
    "\n",
    "# 2 Run a depth-first search on Tree and list the vertices\n",
    "    # 2.1 select start vertiec\n",
    "start_vertice = 0\n",
    "D = Depth_first(Tree, adj, start_vertice)\n",
    "print('Vertices list：', D)\n",
    "\n",
    "# 3 Return Hamiltonian cycle\n",
    "D.append(start_vertice)\n",
    "cycle = Hamilton(D)\n",
    "print('Hamiltonian cycle：',cycle)"
   ]
  },
  {
   "cell_type": "code",
   "execution_count": null,
   "id": "fadd616f",
   "metadata": {},
   "outputs": [],
   "source": []
  }
 ],
 "metadata": {
  "kernelspec": {
   "display_name": "Python 3 (ipykernel)",
   "language": "python",
   "name": "python3"
  },
  "language_info": {
   "codemirror_mode": {
    "name": "ipython",
    "version": 3
   },
   "file_extension": ".py",
   "mimetype": "text/x-python",
   "name": "python",
   "nbconvert_exporter": "python",
   "pygments_lexer": "ipython3",
   "version": "3.9.7"
  }
 },
 "nbformat": 4,
 "nbformat_minor": 5
}
